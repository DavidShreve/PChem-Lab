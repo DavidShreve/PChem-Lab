{
 "cells": [
  {
   "cell_type": "markdown",
   "metadata": {},
   "source": [
    "Student's Name and Email Address\n",
    "\n",
    "Boise State University, Department of Chemistry and Biochemistry"
   ]
  },
  {
   "attachments": {},
   "cell_type": "markdown",
   "metadata": {},
   "source": [
    "## CHEM 324: PChem Lab\n",
    "# Worksheet 1: Python Programming and Data Analysis"
   ]
  },
  {
   "attachments": {},
   "cell_type": "markdown",
   "metadata": {},
   "source": [
    "For the following tasks you will be using the main Python modules discussed in the first notebooks of the course and reported in the following import statement"
   ]
  },
  {
   "cell_type": "code",
   "metadata": {
    "ExecuteTime": {
     "end_time": "2025-01-30T22:26:42.019499Z",
     "start_time": "2025-01-30T22:26:37.845211Z"
    }
   },
   "source": [
    "import numpy as np\n",
    "import matplotlib.pyplot as plt\n",
    "import pandas as pd\n",
    "import stats\n",
    "from sklearn.linear_model import LinearRegression\n",
    "from scipy.stats import sem, norm, t"
   ],
   "outputs": [],
   "execution_count": 1
  },
  {
   "cell_type": "code",
   "metadata": {
    "ExecuteTime": {
     "end_time": "2025-01-30T22:26:42.030847Z",
     "start_time": "2025-01-30T22:26:42.028967Z"
    }
   },
   "source": [
    "base_path = '/Users/School/PycharmProjects/PChem-Lab/'\n",
    "my_path = 'Test_Files/'  \n",
    "path = base_path + my_path"
   ],
   "outputs": [],
   "execution_count": 2
  },
  {
   "cell_type": "markdown",
   "metadata": {},
   "source": [
    "You should now specify the local path to the folder containing your data files. Remember to put a '/' at the end of the path and double check that the path looks right"
   ]
  },
  {
   "cell_type": "code",
   "metadata": {
    "ExecuteTime": {
     "end_time": "2025-01-30T22:26:42.036141Z",
     "start_time": "2025-01-30T22:26:42.034403Z"
    }
   },
   "source": [
    "base_path = '/Users/School/PycharmProjects/PChem-Lab/'\n",
    "my_path = 'Test_Files/'  \n",
    "path = base_path + my_path\n"
   ],
   "outputs": [],
   "execution_count": 3
  },
  {
   "attachments": {},
   "cell_type": "markdown",
   "metadata": {},
   "source": [
    "## Task 1: Reporting Measures and Errors"
   ]
  },
  {
   "attachments": {},
   "cell_type": "markdown",
   "metadata": {},
   "source": [
    "In the following array you are given a set of measures of the temperature of a sample (in Kelvin), taken at constant conditions and regular time intervals. We want to use the collection of measures to report our best estimate of the temperature of our experiment, together with its associated error, expressed as the 95% confidence interval.  "
   ]
  },
  {
   "cell_type": "code",
   "metadata": {
    "ExecuteTime": {
     "end_time": "2025-01-30T22:26:42.042723Z",
     "start_time": "2025-01-30T22:26:42.040758Z"
    }
   },
   "source": [
    "measures = np.array([296.74540119, 302.50714306, 300.31993942, 298.98658484, 294.56018640,\n",
    " 294.55994520,  293.58083612, 301.66176146, 299.01115012, 300.08072578,\n",
    " 293.20584494, 302.69909852, 301.32442641, 295.12339111, 294.81824967,\n",
    " 294.83404510,  296.04242243, 298.24756432, 297.31945019, 295.91229140])"
   ],
   "outputs": [],
   "execution_count": 4
  },
  {
   "attachments": {},
   "cell_type": "markdown",
   "metadata": {},
   "source": [
    "Task 1.1: In the following cell write your best estimate of the temperature of the sample. You can use Python to perform the calculation and save it in a variable called estimate, or you can write directly the calculation inside the format. Make sure you format your number according to how many digits are actually significant. NOTE: You may want to adjut the number of significant figures after you have computed the confidence interval (next step). "
   ]
  },
  {
   "metadata": {},
   "cell_type": "markdown",
   "source": ""
  },
  {
   "cell_type": "code",
   "metadata": {
    "ExecuteTime": {
     "end_time": "2025-01-30T22:26:42.125839Z",
     "start_time": "2025-01-30T22:26:42.124139Z"
    }
   },
   "source": [
    "\n",
    "mean_temp = np.mean(measures)\n",
    "\n",
    "print(f\"Mean Temperature: {mean_temp:.1f} K\")\n",
    "\n"
   ],
   "outputs": [
    {
     "name": "stdout",
     "output_type": "stream",
     "text": [
      "Mean Temperature: 297.6 K\n"
     ]
    }
   ],
   "execution_count": 5
  },
  {
   "attachments": {},
   "cell_type": "markdown",
   "metadata": {},
   "source": [
    "Task 1.2: In the following cell write the error associated with your estimate, defined as the 95% confidence interval. You can use Python to perform the calculation and save it in a variable called error, or you can write directly the calculation inside the format. Make sure you format your number according to how many digits are actually relevant (usually only the first one). \n",
    "\n",
    "Before performing the calculation, you may want to think about which statistical distribution you want to use: the normal distribution or the student's t distributon?"
   ]
  },
  {
   "cell_type": "code",
   "metadata": {
    "ExecuteTime": {
     "end_time": "2025-01-30T22:26:42.139028Z",
     "start_time": "2025-01-30T22:26:42.136330Z"
    }
   },
   "source": [
    "\n",
    "\n",
    "confidence = 0.95  # 95% confidence interval\n",
    "degrees_of_freedom = len(measures) - 1  # Degrees of freedom\n",
    "error_ci95 = sem(measures) * t.ppf((1 + confidence) / 2, degrees_of_freedom)\n",
    "\n",
    "print(f\"The 95% confidence interval for our estimate is \\u00B1 {error_ci95:.1f} K\")\n"
   ],
   "outputs": [
    {
     "name": "stdout",
     "output_type": "stream",
     "text": [
      "The 95% confidence interval for our estimate is ± 1.4 K\n"
     ]
    }
   ],
   "execution_count": 6
  },
  {
   "metadata": {
    "ExecuteTime": {
     "end_time": "2025-01-30T22:26:42.200393Z",
     "start_time": "2025-01-30T22:26:42.196726Z"
    }
   },
   "cell_type": "code",
   "source": [
    "\n",
    "\n",
    "# Calculate the mean\n",
    "estimate = np.average(measures)\n",
    "\n",
    "# Calculate the 95% confidence interval\n",
    "confidence = 0.95\n",
    "degrees_of_freedom = len(measures) - 1\n",
    "error_ci95 = sem(measures) * t.ppf((1 + confidence) / 2, degrees_of_freedom)\n",
    "\n",
    "# Round the error to the first significant digit; log based\n",
    "error_rounded = round(error_ci95, -int(np.floor(np.log10(abs(error_ci95)))))\n",
    "\n",
    "# If the first significant digit is 1, round to the second significant digit\n",
    "if error_rounded == 1.0 or error_rounded == -1.0:  \n",
    "    error_rounded = round(error_ci95, -int(np.floor(np.log10(abs(error_ci95)))) + 1)\n",
    "\n",
    "decimal_places = len(str(error_rounded).split('.')[1]) if '.' in str(error_rounded) else 0\n",
    "\n",
    "# Format and print the result\n",
    "print(f\"The temperature of the sample is {estimate:.{decimal_places}f} ± {error_rounded:.{decimal_places}f} K\")"
   ],
   "outputs": [
    {
     "name": "stdout",
     "output_type": "stream",
     "text": [
      "The temperature of the sample is 297.6 ± 1.4 K\n"
     ]
    }
   ],
   "execution_count": 7
  },
  {
   "cell_type": "markdown",
   "metadata": {},
   "source": "Task 1.3: How different are the results using the Student's t instead of the normal distribution? "
  },
  {
   "metadata": {
    "ExecuteTime": {
     "end_time": "2025-01-30T22:26:42.241568Z",
     "start_time": "2025-01-30T22:26:42.238905Z"
    }
   },
   "cell_type": "code",
   "source": [
    "# Calculate the mean and standard deviation\n",
    "mean = np.mean(measures)\n",
    "std_dev = np.std(measures, ddof=1)  # ddof=1 for sample standard deviation\n",
    "\n",
    "# Calculate the standard error\n",
    "std_err = std_dev / np.sqrt(len(measures))\n",
    "\n",
    "\n",
    "alpha = 0.05  \n",
    "z_critical = norm.ppf(1 - alpha / 2)  \n",
    "margin_of_error_norm = z_critical * std_err\n",
    "\n",
    "\n",
    "\n",
    "print(f\"The best estimate of the temperature of the sample is {estimate: .1f} K\")\n",
    "error_ci95 = error_rounded \n",
    "print(f\"The 95% confidence interval for our estimate is ± {error_ci95: .1f} K\")\n",
    "\n"
   ],
   "outputs": [
    {
     "name": "stdout",
     "output_type": "stream",
     "text": [
      "The best estimate of the temperature of the sample is  297.6 K\n",
      "The 95% confidence interval for our estimate is ±  1.4 K\n"
     ]
    }
   ],
   "execution_count": 8
  },
  {
   "metadata": {},
   "cell_type": "markdown",
   "source": "# Due to rounding, no difference between Student T and Normal Dist"
  },
  {
   "cell_type": "markdown",
   "metadata": {},
   "source": [
    "Task 1.4: Your labmate has been lazy and, instead of 20 values, they decided to measure only 4. What is your estimate and confidence interval in this case?"
   ]
  },
  {
   "cell_type": "code",
   "metadata": {
    "ExecuteTime": {
     "end_time": "2025-01-30T22:26:42.266444Z",
     "start_time": "2025-01-30T22:26:42.264695Z"
    }
   },
   "source": "lazy_measures = np.array([296.74540119, 302.50714306, 300.31993942, 298.98658484])",
   "outputs": [],
   "execution_count": 9
  },
  {
   "metadata": {
    "ExecuteTime": {
     "end_time": "2025-01-30T22:26:42.280035Z",
     "start_time": "2025-01-30T22:26:42.277080Z"
    }
   },
   "cell_type": "code",
   "source": [
    "\n",
    "# Calculate the mean\n",
    "estimate = np.average(lazy_measures)\n",
    "\n",
    "# Calculate the 95% confidence interval\n",
    "confidence = 0.95\n",
    "degrees_of_freedom = len(lazy_measures) - 1\n",
    "error_ci95 = sem(lazy_measures) * t.ppf((1 + confidence) / 2, degrees_of_freedom)\n",
    "\n",
    "# Round the error to the first significant digit; log based\n",
    "error_rounded = round(error_ci95, -int(np.floor(np.log10(abs(error_ci95)))))\n",
    "\n",
    "# If the first significant digit is 1, round to the second significant digit\n",
    "if error_rounded == 1.0 or error_rounded == -1.0: \n",
    "    error_rounded = round(error_ci95, -int(np.floor(np.log10(abs(error_ci95)))) + 1)\n",
    "\n",
    "# Determine the number of decimal places for the error\n",
    "decimal_places = len(str(error_rounded).split('.')[1]) if '.' in str(error_rounded) else 0\n",
    "\n",
    "# Format and print the result\n",
    "print(f\"The temperature of the sample is {estimate: .0f} ± {error_rounded: .0f} K\")\n"
   ],
   "outputs": [
    {
     "name": "stdout",
     "output_type": "stream",
     "text": [
      "The temperature of the sample is  300 ±  4 K\n"
     ]
    }
   ],
   "execution_count": 10
  },
  {
   "attachments": {},
   "cell_type": "markdown",
   "metadata": {},
   "source": [
    "## Task 2: Reading and Checking a Challenging CSV File"
   ]
  },
  {
   "cell_type": "markdown",
   "metadata": {},
   "source": [
    "For the second task, you will need to find a way to read the file `ta.csv`. You can find this file on [GitHub](https://github.com/BoiseState-Chem/Programming/blob/main/Test_Files/ta.csv) or in the [Canvas page](https://boisestatecanvas.instructure.com/courses/27670/files/14071187?wrap=1) of the assignment. This is a csv file, but it has some peculiar issues:\n",
    "\n",
    "* it uses semicolon (`;`) as separator\n",
    "* it uses a colon (`,`) instead of a dot (`.`) for the decimals notation\n",
    "\n",
    "Task 2.1: Use the capabilities of `Pandas.read_csv()` function, to read this file into a `DataFrame`. "
   ]
  },
  {
   "cell_type": "code",
   "metadata": {
    "ExecuteTime": {
     "end_time": "2025-01-30T22:26:42.306477Z",
     "start_time": "2025-01-30T22:26:42.294234Z"
    }
   },
   "source": [
    "file = 'ta.csv'\n",
    "data = pd.read_csv(path+file, sep='\\\\s+',decimal=',', skiprows= 1, skipfooter=1, engine = \"python\")\n",
    "data\n"
   ],
   "outputs": [
    {
     "data": {
      "text/plain": [
       "     Laser-Delay[ns]  TA1[mOD]  TA2[mOD]  TA3[mOD]  TA4[mOD]  TA5[mOD]\n",
       "0               -400 -0.363284 -0.101139 -0.428288  0.043098 -0.103998\n",
       "1               -390 -0.464574 -0.142894 -0.294602 -0.199885 -0.323079\n",
       "2               -380 -0.270030 -0.316764 -0.358936 -0.440334 -0.254724\n",
       "3               -370 -0.245370 -0.012989 -0.366877 -0.389370 -0.210857\n",
       "4               -360 -0.260838 -0.181731 -0.027994  0.086638 -0.208827\n",
       "..               ...       ...       ...       ...       ...       ...\n",
       "536             4960  1.141909  0.725613  0.598935  0.697969  0.528366\n",
       "537             4970  0.398080  0.575600  0.401757  0.683005  0.883877\n",
       "538             4980  0.642711  0.365095  0.542756  0.340545  0.669134\n",
       "539             4990  0.478086  0.570831  0.624570  0.406449  0.296095\n",
       "540             5000  0.811056  0.559644  0.649553  0.653971  0.128178\n",
       "\n",
       "[541 rows x 6 columns]"
      ],
      "text/html": [
       "<div>\n",
       "<style scoped>\n",
       "    .dataframe tbody tr th:only-of-type {\n",
       "        vertical-align: middle;\n",
       "    }\n",
       "\n",
       "    .dataframe tbody tr th {\n",
       "        vertical-align: top;\n",
       "    }\n",
       "\n",
       "    .dataframe thead th {\n",
       "        text-align: right;\n",
       "    }\n",
       "</style>\n",
       "<table border=\"1\" class=\"dataframe\">\n",
       "  <thead>\n",
       "    <tr style=\"text-align: right;\">\n",
       "      <th></th>\n",
       "      <th>Laser-Delay[ns]</th>\n",
       "      <th>TA1[mOD]</th>\n",
       "      <th>TA2[mOD]</th>\n",
       "      <th>TA3[mOD]</th>\n",
       "      <th>TA4[mOD]</th>\n",
       "      <th>TA5[mOD]</th>\n",
       "    </tr>\n",
       "  </thead>\n",
       "  <tbody>\n",
       "    <tr>\n",
       "      <th>0</th>\n",
       "      <td>-400</td>\n",
       "      <td>-0.363284</td>\n",
       "      <td>-0.101139</td>\n",
       "      <td>-0.428288</td>\n",
       "      <td>0.043098</td>\n",
       "      <td>-0.103998</td>\n",
       "    </tr>\n",
       "    <tr>\n",
       "      <th>1</th>\n",
       "      <td>-390</td>\n",
       "      <td>-0.464574</td>\n",
       "      <td>-0.142894</td>\n",
       "      <td>-0.294602</td>\n",
       "      <td>-0.199885</td>\n",
       "      <td>-0.323079</td>\n",
       "    </tr>\n",
       "    <tr>\n",
       "      <th>2</th>\n",
       "      <td>-380</td>\n",
       "      <td>-0.270030</td>\n",
       "      <td>-0.316764</td>\n",
       "      <td>-0.358936</td>\n",
       "      <td>-0.440334</td>\n",
       "      <td>-0.254724</td>\n",
       "    </tr>\n",
       "    <tr>\n",
       "      <th>3</th>\n",
       "      <td>-370</td>\n",
       "      <td>-0.245370</td>\n",
       "      <td>-0.012989</td>\n",
       "      <td>-0.366877</td>\n",
       "      <td>-0.389370</td>\n",
       "      <td>-0.210857</td>\n",
       "    </tr>\n",
       "    <tr>\n",
       "      <th>4</th>\n",
       "      <td>-360</td>\n",
       "      <td>-0.260838</td>\n",
       "      <td>-0.181731</td>\n",
       "      <td>-0.027994</td>\n",
       "      <td>0.086638</td>\n",
       "      <td>-0.208827</td>\n",
       "    </tr>\n",
       "    <tr>\n",
       "      <th>...</th>\n",
       "      <td>...</td>\n",
       "      <td>...</td>\n",
       "      <td>...</td>\n",
       "      <td>...</td>\n",
       "      <td>...</td>\n",
       "      <td>...</td>\n",
       "    </tr>\n",
       "    <tr>\n",
       "      <th>536</th>\n",
       "      <td>4960</td>\n",
       "      <td>1.141909</td>\n",
       "      <td>0.725613</td>\n",
       "      <td>0.598935</td>\n",
       "      <td>0.697969</td>\n",
       "      <td>0.528366</td>\n",
       "    </tr>\n",
       "    <tr>\n",
       "      <th>537</th>\n",
       "      <td>4970</td>\n",
       "      <td>0.398080</td>\n",
       "      <td>0.575600</td>\n",
       "      <td>0.401757</td>\n",
       "      <td>0.683005</td>\n",
       "      <td>0.883877</td>\n",
       "    </tr>\n",
       "    <tr>\n",
       "      <th>538</th>\n",
       "      <td>4980</td>\n",
       "      <td>0.642711</td>\n",
       "      <td>0.365095</td>\n",
       "      <td>0.542756</td>\n",
       "      <td>0.340545</td>\n",
       "      <td>0.669134</td>\n",
       "    </tr>\n",
       "    <tr>\n",
       "      <th>539</th>\n",
       "      <td>4990</td>\n",
       "      <td>0.478086</td>\n",
       "      <td>0.570831</td>\n",
       "      <td>0.624570</td>\n",
       "      <td>0.406449</td>\n",
       "      <td>0.296095</td>\n",
       "    </tr>\n",
       "    <tr>\n",
       "      <th>540</th>\n",
       "      <td>5000</td>\n",
       "      <td>0.811056</td>\n",
       "      <td>0.559644</td>\n",
       "      <td>0.649553</td>\n",
       "      <td>0.653971</td>\n",
       "      <td>0.128178</td>\n",
       "    </tr>\n",
       "  </tbody>\n",
       "</table>\n",
       "<p>541 rows × 6 columns</p>\n",
       "</div>"
      ]
     },
     "execution_count": 11,
     "metadata": {},
     "output_type": "execute_result"
    }
   ],
   "execution_count": 11
  },
  {
   "cell_type": "markdown",
   "metadata": {},
   "source": [
    "Task 2.2: Answer the following questions using `DataFrame` functionalities. Make sure to show your Python work, leaving the commands that you used in the notebook or referring to them in your answers.\n",
    "\n",
    "* How many rows and columns of data are in the file?   \n",
    "\n",
    "* What is the last recorded value of the laser delay time? \n",
    "\n",
    "* What is the first recorded value of the transient absorption in run 5 (i.e., in the column labelled TA5)?\n",
    "\n",
    "* What is the peak value of the transient absorption in run 2 (i.e., the maximum value)?"
   ]
  },
  {
   "metadata": {
    "ExecuteTime": {
     "end_time": "2025-01-30T22:26:42.339484Z",
     "start_time": "2025-01-30T22:26:42.336721Z"
    }
   },
   "cell_type": "code",
   "source": [
    "len(data)\n",
    "len(data.columns)\n",
    "first_recorded_value = data.iloc[0,0]\n",
    "last_recorded_value = data.iloc[540,3] \n",
    "peak_run_4 = np.max(data.iloc[:, 4])\n",
    "\n",
    "print(f\"Data has {len(data)} rows and {len(data.columns)} columns.\")\n",
    "print(f\"First recorded value is {first_recorded_value}.\")\n",
    "print(f\"Last recorded value is {last_recorded_value}.\")\n",
    "print(f\"Peak run 4 is {peak_run_4}.\")\n",
    "      \n",
    "\n"
   ],
   "outputs": [
    {
     "name": "stdout",
     "output_type": "stream",
     "text": [
      "Data has 541 rows and 6 columns.\n",
      "First recorded value is -400.\n",
      "Last recorded value is 0.649553.\n",
      "Peak run 4 is 42.863927.\n"
     ]
    }
   ],
   "execution_count": 12
  },
  {
   "cell_type": "markdown",
   "metadata": {},
   "source": [
    "Task 2.3: Make a plot that shows at least two of the transient absorption curves as a function of the laser delay. "
   ]
  },
  {
   "metadata": {
    "ExecuteTime": {
     "end_time": "2025-01-30T22:26:42.487724Z",
     "start_time": "2025-01-30T22:26:42.388702Z"
    }
   },
   "cell_type": "code",
   "source": [
    "plt.plot(data[\"Laser-Delay[ns]\"], data[\"TA1[mOD]\"], label = 'TA1')\n",
    "plt.plot(data[\"Laser-Delay[ns]\"], data[\"TA4[mOD]\"], label = 'TA4')\n",
    "plt.xlim(0,5000)\n",
    "plt.xlabel('Laser Delay (ns)')\n",
    "plt.ylabel('Transient Absorption (au)')\n",
    "plt.legend()\n",
    "plt.show()\n",
    "\n"
   ],
   "outputs": [
    {
     "data": {
      "text/plain": [
       "<Figure size 640x480 with 1 Axes>"
      ],
      "image/png": "[encoded data removed]"
     },
     "metadata": {},
     "output_type": "display_data"
    }
   ],
   "execution_count": 13
  },
  {
   "cell_type": "markdown",
   "metadata": {},
   "source": [
    "## Task 3: Math on Datasets"
   ]
  },
  {
   "attachments": {},
   "cell_type": "markdown",
   "metadata": {},
   "source": [
    "For all the tasks that follow you wil be working with a dataset created by your instructor, named `protein.csv`. You can find this file on [GitHub](https://github.com/BoiseState-Chem/Programming/blob/main/Test_Files/protein.csv) or in the [Canvas page](https://boisestatecanvas.instructure.com/courses/27670/files/14071185?wrap=1) of the assignment. The data file contains more than 700 rows of data related to the atoms of a small protein (an insulin mutant, entry 1A7F in the Protein Data Bank). For each atom the file report the element label (first column), some properties that are related to how close to the surface of the protein the atom is, as well as the cartesian coordinates (X,Y,Z, in the last three columns) of that atom, as obtained from crystallographic data, the atomic mass of the atom (MASS), and its distance from the center of mass of the protein (R_vs_COM). Units for all the reported columns can be assumed to be atomic units (a.u.). "
   ]
  },
  {
   "attachments": {},
   "cell_type": "markdown",
   "metadata": {},
   "source": [
    "Use `Pandas` to load the file into a `DataFrame`."
   ]
  },
  {
   "cell_type": "code",
   "metadata": {
    "ExecuteTime": {
     "end_time": "2025-01-30T22:26:42.530737Z",
     "start_time": "2025-01-30T22:26:42.526775Z"
    }
   },
   "source": [
    "file = 'protein.csv'\n",
    "protein = pd.read_csv(path+file)"
   ],
   "outputs": [],
   "execution_count": 14
  },
  {
   "attachments": {},
   "cell_type": "markdown",
   "metadata": {},
   "source": [
    "Task 3.1: Answer the following questions related to the dataset. Make sure to show your Python work, leaving the commands that you used in the notebook or referring to them in your answers."
   ]
  },
  {
   "cell_type": "code",
   "metadata": {
    "ExecuteTime": {
     "end_time": "2025-01-30T22:26:42.542814Z",
     "start_time": "2025-01-30T22:26:42.539641Z"
    }
   },
   "source": [
    "atoms = len(protein)\n",
    "nitrogen = len(protein[protein['ELEMENT']=='N'])\n",
    "total_mass = np.sum(protein['MASS'])\n",
    "\n",
    "\n",
    "# How many atoms are in the protein?\n",
    "print(f\"The file contains {atoms} atoms\")\n",
    "# How many of these are nitrogen atoms?\n",
    "print(f\"The protein has {nitrogen} N atoms\")\n",
    "# What is the total mass of the protein?\n",
    "print(f\"The protein has a mass of {total_mass} atomic units\")\n"
   ],
   "outputs": [
    {
     "name": "stdout",
     "output_type": "stream",
     "text": [
      "The file contains 753 atoms\n",
      "The protein has 64 N atoms\n",
      "The protein has a mass of 5573.0 atomic units\n"
     ]
    }
   ],
   "execution_count": 15
  },
  {
   "attachments": {},
   "cell_type": "markdown",
   "metadata": {},
   "source": [
    "Task 3.2: From the knowledge of the positions of the atoms, $\\vec{R}_i$, and their masses, $m_i$, we can compute the coordinates of the center of mass of the protein $\\vec{r}_{com}=\\frac{1}{M_{tot}}\\sum{m_i\\vec{R}_i}$, where $M_{tot}$ is the total mass.\n",
    "\n",
    "While you can solve this task using `for` loops, try doing the math directly on the columns of the `DataFrame`. You may want to write the vector that you need to compute in terms of its three components:\n",
    "\n",
    "$$x_{cm}=\\frac{1}{M_{tot}}\\sum{m_i{X}_i}$$\n",
    "$$y_{cm}=\\frac{1}{M_{tot}}\\sum{m_i{Y}_i}$$\n",
    "$$z_{cm}=\\frac{1}{M_{tot}}\\sum{m_i{Z}_i}$$\n",
    "\n",
    "where $X_i$, $Y_i$, and $Z_i$ are the coordinates of the atoms and correspond to the 'X', 'Y', 'Z' columns of the `DataFrame`. NOTE: you can sum over all the values in a colum, with the `np.sum()` function or with the `df['Column-Name'].sum()` method. "
   ]
  },
  {
   "cell_type": "code",
   "metadata": {
    "ExecuteTime": {
     "end_time": "2025-01-30T22:26:42.565845Z",
     "start_time": "2025-01-30T22:26:42.563186Z"
    }
   },
   "source": [
    "xcm = 1/total_mass*(np.sum(protein['MASS']*protein['X']))\n",
    "ycm = 1/total_mass*(np.sum(protein['MASS']*protein['Y']))\n",
    "zcm = 1/total_mass*(np.sum(protein['MASS']*protein['Z']))\n",
    "print(f\"The coordinates of the center of mass of the protein are {xcm} {ycm} {zcm}\")"
   ],
   "outputs": [
    {
     "name": "stdout",
     "output_type": "stream",
     "text": [
      "The coordinates of the center of mass of the protein are -0.35241485734792766 -0.45024062443926094 0.43055176745020607\n"
     ]
    }
   ],
   "execution_count": 16
  },
  {
   "attachments": {},
   "cell_type": "markdown",
   "metadata": {},
   "source": "## Task 4: Linear Regression"
  },
  {
   "attachments": {},
   "cell_type": "markdown",
   "metadata": {},
   "source": [
    "Still working on the data from the `protein.csv` file, extract the values corresponding to the VOL_CONT_20.0 and R_vs_COM columns. \n",
    "\n",
    "Task 4.1: Characterize the frequency distribution of these two data sets. You can do this by making histogram plots and by looking at their means and standard deviations."
   ]
  },
  {
   "metadata": {
    "ExecuteTime": {
     "end_time": "2025-01-30T22:26:42.714155Z",
     "start_time": "2025-01-30T22:26:42.595444Z"
    }
   },
   "cell_type": "code",
   "source": [
    "sur_cont_data = protein['SUR_CONT_15.0'].values\n",
    "r_vs_com_data = protein['R_vs_COM'].values\n",
    "plt.hist(sur_cont_data, label='SUR_CONT_15.0')\n",
    "plt.xlabel('SUR_CONT_15.0')\n",
    "plt.ylabel('Count')\n",
    "plt.legend()\n",
    "plt.show()\n",
    "plt.hist(r_vs_com_data, label='R_vs_COM')\n",
    "plt.xlabel('R_vs_COM')\n",
    "plt.ylabel('Count') \n",
    "plt.legend()\n",
    "plt.show()\n",
    "\n",
    "sur_cont_mean = np.mean(protein['SUR_CONT_15.0'])\n",
    "sur_cont_std = np.std(protein['SUR_CONT_15.0'])\n",
    "r_vs_com_mean = np.mean(protein['R_vs_COM'])\n",
    "r_vs_com_std = np.std(protein['R_vs_COM'])\n",
    "\n",
    "print(f\"SUR_CONT_15.0: Mean = {sur_cont_mean:.2f}, Standard Deviation = {sur_cont_std:.2f}\")\n",
    "print(f\"R_vs_COM: Mean = {r_vs_com_mean:.2f}, Standard Deviation = {r_vs_com_std:.2f}\")\n",
    "\n"
   ],
   "outputs": [
    {
     "data": {
      "text/plain": [
       "<Figure size 640x480 with 1 Axes>"
      ],
      "image/png": "[encoded data removed]"
     },
     "metadata": {},
     "output_type": "display_data"
    },
    {
     "data": {
      "text/plain": [
       "<Figure size 640x480 with 1 Axes>"
      ],
      "image/png": "[encoded data removed]"
     },
     "metadata": {},
     "output_type": "display_data"
    },
    {
     "name": "stdout",
     "output_type": "stream",
     "text": [
      "SUR_CONT_15.0: Mean = 1859.57, Standard Deviation = 438.69\n",
      "R_vs_COM: Mean = 9.63, Standard Deviation = 3.24\n"
     ]
    }
   ],
   "execution_count": 17
  },
  {
   "attachments": {},
   "cell_type": "markdown",
   "metadata": {},
   "source": [
    "Task 4.2: Check if there is any relation between the two variables above. You can do this with a scatter plot."
   ]
  },
  {
   "metadata": {
    "ExecuteTime": {
     "end_time": "2025-01-30T22:26:42.814436Z",
     "start_time": "2025-01-30T22:26:42.729819Z"
    }
   },
   "cell_type": "code",
   "source": [
    "x = protein[['SUR_CONT_15.0']].values  \n",
    "y = protein['R_vs_COM'].values.reshape(-1, 1)\n",
    "model = LinearRegression()\n",
    "model.fit(x, y)\n",
    "# Predictions for regression line\n",
    "y_pred = model.predict(x)\n",
    "\n",
    "# Plot scatter plot and regression line\n",
    "# Extract slope (m) and intercept (b)\n",
    "m = model.coef_[0][0]  # Slope\n",
    "b = model.intercept_[0]  # Intercept\n",
    "\n",
    "# Create figure\n",
    "plt.figure(figsize=(8, 6))\n",
    "\n",
    "# Scatter plot for actual data\n",
    "plt.scatter(x, y, color='blue')\n",
    "\n",
    "# Plot regression line with equation in legend\n",
    "equation_text = f\"y = {m:.2f}x + {b:.2f}\"  # Format regression equation\n",
    "plt.plot(x, y_pred, color='red', linewidth=2, label=equation_text)\n",
    "\n",
    "plt.xlabel('SUR_CONT_15.0')\n",
    "plt.ylabel('R_vs_COM')\n",
    "plt.title('Relationship between SUR_CONT_15.0 and R_vs_COM')\n",
    "plt.scatter(x, y)\n",
    "plt.legend()"
   ],
   "outputs": [
    {
     "data": {
      "text/plain": [
       "<matplotlib.legend.Legend at 0x1296bb290>"
      ]
     },
     "execution_count": 18,
     "metadata": {},
     "output_type": "execute_result"
    },
    {
     "data": {
      "text/plain": [
       "<Figure size 800x600 with 1 Axes>"
      ],
      "image/png": "[encoded data removed]"
     },
     "metadata": {},
     "output_type": "display_data"
    }
   ],
   "execution_count": 18
  },
  {
   "metadata": {},
   "cell_type": "markdown",
   "source": "There is a negative correlation between R_vs_COM and SUR_CONT_15.0"
  },
  {
   "attachments": {},
   "cell_type": "markdown",
   "metadata": {},
   "source": [
    "Feel free to comment on what is shown in the plot here. "
   ]
  },
  {
   "attachments": {},
   "cell_type": "markdown",
   "metadata": {},
   "source": [
    "Task 4.3: Can we use the selected feature (VOL_CONT_20.0) to predict the distance of the atom from the center of mass of the protein (R_vs_COM)? Use a linear regression algorithm from `Sklearn` to perform a fit of a linear model. Plot the fit together with the data "
   ]
  },
  {
   "metadata": {
    "ExecuteTime": {
     "end_time": "2025-01-30T22:26:42.874770Z",
     "start_time": "2025-01-30T22:26:42.829512Z"
    }
   },
   "cell_type": "code",
   "source": [
    "lr = LinearRegression()\n",
    "lr.fit(x, y)\n",
    "plt.scatter(x, y)\n",
    "m = float(lr.coef_[0][0])\n",
    "b = float(lr.intercept_[0])\n",
    "plt.plot(x, lr.predict(x), color='red', label=f\"y = {m:.3f}x + {b:.3f}\")\n",
    "plt.xlabel('SUR_CONT_15.0')\n",
    "plt.ylabel('R_vs_COM')\n",
    "plt.legend()\n",
    "plt.show()\n",
    "print(f'The linear fit has a slope of {m} and an intercept of {b}')\n"
   ],
   "outputs": [
    {
     "data": {
      "text/plain": [
       "<Figure size 640x480 with 1 Axes>"
      ],
      "image/png": "[encoded data removed]"
     },
     "metadata": {},
     "output_type": "display_data"
    },
    {
     "name": "stdout",
     "output_type": "stream",
     "text": [
      "The linear fit has a slope of -0.007089719560518869 and an intercept of 22.812625237331957\n"
     ]
    }
   ],
   "execution_count": 19
  },
  {
   "attachments": {},
   "cell_type": "markdown",
   "metadata": {},
   "source": [
    "Task 4.4: How good is your fit? Compute the fit's correlation score."
   ]
  },
  {
   "metadata": {
    "ExecuteTime": {
     "end_time": "2025-01-30T22:26:42.889365Z",
     "start_time": "2025-01-30T22:26:42.887022Z"
    }
   },
   "cell_type": "code",
   "source": [
    "R2=lr.score(x,y)\n",
    "print(f'The correlation score is {R2}')"
   ],
   "outputs": [
    {
     "name": "stdout",
     "output_type": "stream",
     "text": [
      "The correlation score is 0.9228838222632761\n"
     ]
    }
   ],
   "execution_count": 20
  },
  {
   "attachments": {},
   "cell_type": "markdown",
   "metadata": {},
   "source": [
    "Add your comments on the results here."
   ]
  },
  {
   "metadata": {},
   "cell_type": "markdown",
   "source": "R^2 = .922 is a relatively strong correlation"
  },
  {
   "attachments": {},
   "cell_type": "markdown",
   "metadata": {},
   "source": [
    "## Bonus Task"
   ]
  },
  {
   "attachments": {},
   "cell_type": "markdown",
   "metadata": {},
   "source": [
    "1. Out of all the variables named SUR_CONT_... and VOL_CONT_..., which one is the best to predict R_vs_COM using a linear model?\n",
    "2. Can you improve on the prediction of R_vs_COM using more than one variable? "
   ]
  },
  {
   "metadata": {
    "ExecuteTime": {
     "end_time": "2025-01-30T22:26:42.931100Z",
     "start_time": "2025-01-30T22:26:42.914890Z"
    }
   },
   "cell_type": "code",
   "source": [
    "\n",
    "sur_cont_cols = [col for col in protein.columns if 'SUR_CONT' in col]\n",
    "vol_cont_cols = [col for col in protein.columns if 'VOL_CONT' in col]\n",
    "predictor_cols = sur_cont_cols + vol_cont_cols\n",
    "\n",
    "# Store R-squared values for each predictor\n",
    "r2_scores = {}\n",
    "\n",
    "# Loop through each predictor column\n",
    "for predictor in predictor_cols:\n",
    "    x = protein[[predictor]].values\n",
    "    y = protein['R_vs_COM'].values.reshape(-1, 1)\n",
    "\n",
    "    lr = LinearRegression()\n",
    "    lr.fit(x, y)\n",
    "    r2_scores[predictor] = lr.score(x, y)\n",
    "\n",
    "best_predictor = max(r2_scores, key=r2_scores.get)\n",
    "best_r2 = r2_scores[best_predictor]\n",
    "\n",
    "print(f\"Best predictor: {best_predictor}, R-squared: {best_r2:.3f}\")\n",
    "\n",
    "# sort descending order and select top two\n",
    "top_predictors = sorted(r2_scores, key=r2_scores.get, reverse=True)[:2]  \n",
    "                                                   \n",
    "x = protein[top_predictors].values  \n",
    "y = protein['R_vs_COM'].values\n",
    "\n",
    "lr = LinearRegression()\n",
    "lr.fit(x, y)\n",
    "r2_multiple = lr.score(x, y)\n",
    "\n",
    "print(f\"R-squared with multiple predictors: {r2_multiple:.3f}\")"
   ],
   "outputs": [
    {
     "name": "stdout",
     "output_type": "stream",
     "text": [
      "Best predictor: VOL_CONT_15.0, R-squared: 0.978\n",
      "R-squared with multiple predictors: 0.982\n"
     ]
    }
   ],
   "execution_count": 21
  }
 ],
 "metadata": {
  "kernelspec": {
   "display_name": "Python 3",
   "language": "python",
   "name": "python3"
  },
  "language_info": {
   "codemirror_mode": {
    "name": "ipython",
    "version": 3
   },
   "file_extension": ".py",
   "mimetype": "text/x-python",
   "name": "python",
   "nbconvert_exporter": "python",
   "pygments_lexer": "ipython3"
  },
  "vscode": {
   "interpreter": {
    "hash": "949777d72b0d2535278d3dc13498b2535136f6dfe0678499012e853ee9abcab1"
   }
  }
 },
 "nbformat": 4,
 "nbformat_minor": 2
}
