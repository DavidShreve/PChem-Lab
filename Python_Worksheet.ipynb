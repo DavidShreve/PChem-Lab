{
 "cells": [
  {
   "cell_type": "markdown",
   "metadata": {},
   "source": [
    "Student's Name and Email Address\n",
    "\n",
    "Boise State University, Department of Chemistry and Biochemistry"
   ]
  },
  {
   "attachments": {},
   "cell_type": "markdown",
   "metadata": {},
   "source": [
    "## CHEM 324: PChem Lab\n",
    "# Worksheet 1: Python Programming and Data Analysis"
   ]
  },
  {
   "attachments": {},
   "cell_type": "markdown",
   "metadata": {},
   "source": [
    "For the following tasks you will be using the main Python modules discussed in the first notebooks of the course and reported in the following import statement"
   ]
  },
  {
   "cell_type": "code",
   "metadata": {
    "ExecuteTime": {
     "end_time": "2025-01-28T02:59:31.601688Z",
     "start_time": "2025-01-28T02:59:31.598383Z"
    }
   },
   "source": [
    "import numpy as np\n",
    "import matplotlib.pyplot as plt\n",
    "import pandas as pd\n",
    "import stats\n",
    "from sklearn.linear_model import LinearRegression\n",
    "from scipy.stats import sem, norm, t"
   ],
   "outputs": [],
   "execution_count": 367
  },
  {
   "cell_type": "code",
   "metadata": {
    "ExecuteTime": {
     "end_time": "2025-01-28T02:59:31.608526Z",
     "start_time": "2025-01-28T02:59:31.606462Z"
    }
   },
   "source": [
    "base_path = '/Users/School/PycharmProjects/PChem-Lab/'\n",
    "my_path = 'Test_Files/'  \n",
    "path = base_path + my_path"
   ],
   "outputs": [],
   "execution_count": 368
  },
  {
   "cell_type": "markdown",
   "metadata": {},
   "source": [
    "You should now specify the local path to the folder containing your data files. Remember to put a '/' at the end of the path and double check that the path looks right"
   ]
  },
  {
   "cell_type": "code",
   "metadata": {
    "ExecuteTime": {
     "end_time": "2025-01-28T02:59:31.621610Z",
     "start_time": "2025-01-28T02:59:31.619456Z"
    }
   },
   "source": [
    "base_path = '/Users/School/PycharmProjects/PChem-Lab/'\n",
    "my_path = 'Test_Files/'  \n",
    "path = base_path + my_path\n"
   ],
   "outputs": [],
   "execution_count": 369
  },
  {
   "attachments": {},
   "cell_type": "markdown",
   "metadata": {},
   "source": [
    "## Task 1: Reporting Measures and Errors"
   ]
  },
  {
   "attachments": {},
   "cell_type": "markdown",
   "metadata": {},
   "source": [
    "In the following array you are given a set of measures of the temperature of a sample (in Kelvin), taken at constant conditions and regular time intervals. We want to use the collection of measures to report our best estimate of the temperature of our experiment, together with its associated error, expressed as the 95% confidence interval.  "
   ]
  },
  {
   "cell_type": "code",
   "metadata": {
    "ExecuteTime": {
     "end_time": "2025-01-28T02:59:31.633512Z",
     "start_time": "2025-01-28T02:59:31.631359Z"
    }
   },
   "source": [
    "measures = np.array([296.74540119, 302.50714306, 300.31993942, 298.98658484, 294.56018640,\n",
    " 294.55994520,  293.58083612, 301.66176146, 299.01115012, 300.08072578,\n",
    " 293.20584494, 302.69909852, 301.32442641, 295.12339111, 294.81824967,\n",
    " 294.83404510,  296.04242243, 298.24756432, 297.31945019, 295.91229140])"
   ],
   "outputs": [],
   "execution_count": 370
  },
  {
   "attachments": {},
   "cell_type": "markdown",
   "metadata": {},
   "source": [
    "Task 1.1: In the following cell write your best estimate of the temperature of the sample. You can use Python to perform the calculation and save it in a variable called estimate, or you can write directly the calculation inside the format. Make sure you format your number according to how many digits are actually significant. NOTE: You may want to adjut the number of significant figures after you have computed the confidence interval (next step). "
   ]
  },
  {
   "metadata": {},
   "cell_type": "markdown",
   "source": ""
  },
  {
   "cell_type": "code",
   "metadata": {
    "ExecuteTime": {
     "end_time": "2025-01-28T02:59:31.644720Z",
     "start_time": "2025-01-28T02:59:31.642658Z"
    }
   },
   "source": [
    "\n",
    "mean_temp = np.mean(measures)\n",
    "\n",
    "print(f\"Mean Temperature: {mean_temp:.1f} K\")\n",
    "\n"
   ],
   "outputs": [
    {
     "name": "stdout",
     "output_type": "stream",
     "text": [
      "Mean Temperature: 297.6 K\n"
     ]
    }
   ],
   "execution_count": 371
  },
  {
   "attachments": {},
   "cell_type": "markdown",
   "metadata": {},
   "source": [
    "Task 1.2: In the following cell write the error associated with your estimate, defined as the 95% confidence interval. You can use Python to perform the calculation and save it in a variable called error, or you can write directly the calculation inside the format. Make sure you format your number according to how many digits are actually relevant (usually only the first one). \n",
    "\n",
    "Before performing the calculation, you may want to think about which statistical distribution you want to use: the normal distribution or the student's t distributon?"
   ]
  },
  {
   "cell_type": "code",
   "metadata": {
    "ExecuteTime": {
     "end_time": "2025-01-28T02:59:31.720096Z",
     "start_time": "2025-01-28T02:59:31.716973Z"
    }
   },
   "source": [
    "\n",
    "\n",
    "confidence = 0.95  # 95% confidence interval\n",
    "degrees_of_freedom = len(measures) - 1  # Degrees of freedom\n",
    "error_ci95 = sem(measures) * t.ppf((1 + confidence) / 2, degrees_of_freedom)\n",
    "\n",
    "print(f\"The 95% confidence interval for our estimate is \\u00B1 {error_ci95:.1f} K\")\n"
   ],
   "outputs": [
    {
     "name": "stdout",
     "output_type": "stream",
     "text": [
      "The 95% confidence interval for our estimate is ± 1.4 K\n"
     ]
    }
   ],
   "execution_count": 372
  },
  {
   "metadata": {
    "ExecuteTime": {
     "end_time": "2025-01-28T02:59:31.744632Z",
     "start_time": "2025-01-28T02:59:31.740973Z"
    }
   },
   "cell_type": "code",
   "source": [
    "\n",
    "\n",
    "# Calculate the mean\n",
    "estimate = np.average(measures)\n",
    "\n",
    "# Calculate the 95% confidence interval\n",
    "confidence = 0.95\n",
    "degrees_of_freedom = len(measures) - 1\n",
    "error_ci95 = sem(measures) * t.ppf((1 + confidence) / 2, degrees_of_freedom)\n",
    "\n",
    "# Round the error to the first significant digit; log based\n",
    "error_rounded = round(error_ci95, -int(np.floor(np.log10(abs(error_ci95)))))\n",
    "\n",
    "# If the first significant digit is 1, round to the second significant digit\n",
    "if error_rounded == 1.0 or error_rounded == -1.0:  \n",
    "    error_rounded = round(error_ci95, -int(np.floor(np.log10(abs(error_ci95)))) + 1)\n",
    "\n",
    "decimal_places = len(str(error_rounded).split('.')[1]) if '.' in str(error_rounded) else 0\n",
    "\n",
    "# Format and print the result\n",
    "print(f\"The temperature of the sample is {estimate:.{decimal_places}f} ± {error_rounded:.{decimal_places}f} K\")"
   ],
   "outputs": [
    {
     "name": "stdout",
     "output_type": "stream",
     "text": [
      "The temperature of the sample is 297.6 ± 1.4 K\n"
     ]
    }
   ],
   "execution_count": 373
  },
  {
   "cell_type": "markdown",
   "metadata": {},
   "source": "Task 1.3: How different are the results using the Student's t instead of the normal distribution? "
  },
  {
   "metadata": {
    "ExecuteTime": {
     "end_time": "2025-01-28T02:59:31.771678Z",
     "start_time": "2025-01-28T02:59:31.768820Z"
    }
   },
   "cell_type": "code",
   "source": [
    "# Calculate the mean and standard deviation\n",
    "mean = np.mean(measures)\n",
    "std_dev = np.std(measures, ddof=1)  # ddof=1 for sample standard deviation\n",
    "\n",
    "# Calculate the standard error\n",
    "std_err = std_dev / np.sqrt(len(measures))\n",
    "\n",
    "\n",
    "alpha = 0.05  \n",
    "z_critical = norm.ppf(1 - alpha / 2)  \n",
    "margin_of_error_norm = z_critical * std_err\n",
    "\n",
    "\n",
    "\n",
    "print(f\"The best estimate of the temperature of the sample is {estimate: .1f} K\")\n",
    "error_ci95 = error_rounded \n",
    "print(f\"The 95% confidence interval for our estimate is ± {error_ci95: .1f} K\")\n",
    "\n"
   ],
   "outputs": [
    {
     "name": "stdout",
     "output_type": "stream",
     "text": [
      "The best estimate of the temperature of the sample is  297.6 K\n",
      "The 95% confidence interval for our estimate is ±  1.4 K\n"
     ]
    }
   ],
   "execution_count": 374
  },
  {
   "metadata": {},
   "cell_type": "markdown",
   "source": "# Due to rounding, no difference between Student T and Normal Dist"
  },
  {
   "cell_type": "markdown",
   "metadata": {},
   "source": [
    "Task 1.4: Your labmate has been lazy and, instead of 20 values, they decided to measure only 4. What is your estimate and confidence interval in this case?"
   ]
  },
  {
   "cell_type": "code",
   "metadata": {
    "ExecuteTime": {
     "end_time": "2025-01-28T02:59:31.790675Z",
     "start_time": "2025-01-28T02:59:31.788893Z"
    }
   },
   "source": "lazy_measures = np.array([296.74540119, 302.50714306, 300.31993942, 298.98658484])",
   "outputs": [],
   "execution_count": 375
  },
  {
   "metadata": {
    "ExecuteTime": {
     "end_time": "2025-01-28T02:59:31.802121Z",
     "start_time": "2025-01-28T02:59:31.798919Z"
    }
   },
   "cell_type": "code",
   "source": [
    "\n",
    "# Calculate the mean\n",
    "estimate = np.average(lazy_measures)\n",
    "\n",
    "# Calculate the 95% confidence interval\n",
    "confidence = 0.95\n",
    "degrees_of_freedom = len(lazy_measures) - 1\n",
    "error_ci95 = sem(lazy_measures) * t.ppf((1 + confidence) / 2, degrees_of_freedom)\n",
    "\n",
    "# Round the error to the first significant digit; log based\n",
    "error_rounded = round(error_ci95, -int(np.floor(np.log10(abs(error_ci95)))))\n",
    "\n",
    "# If the first significant digit is 1, round to the second significant digit\n",
    "if error_rounded == 1.0 or error_rounded == -1.0: \n",
    "    error_rounded = round(error_ci95, -int(np.floor(np.log10(abs(error_ci95)))) + 1)\n",
    "\n",
    "# Determine the number of decimal places for the error\n",
    "decimal_places = len(str(error_rounded).split('.')[1]) if '.' in str(error_rounded) else 0\n",
    "\n",
    "# Format and print the result\n",
    "print(f\"The temperature of the sample is {estimate: .0f} ± {error_rounded: .0f} K\")\n"
   ],
   "outputs": [
    {
     "name": "stdout",
     "output_type": "stream",
     "text": [
      "The temperature of the sample is  300 ±  4 K\n"
     ]
    }
   ],
   "execution_count": 376
  },
  {
   "attachments": {},
   "cell_type": "markdown",
   "metadata": {},
   "source": [
    "## Task 2: Reading and Checking a Challenging CSV File"
   ]
  },
  {
   "cell_type": "markdown",
   "metadata": {},
   "source": [
    "For the second task, you will need to find a way to read the file `ta.csv`. You can find this file on [GitHub](https://github.com/BoiseState-Chem/Programming/blob/main/Test_Files/ta.csv) or in the [Canvas page](https://boisestatecanvas.instructure.com/courses/27670/files/14071187?wrap=1) of the assignment. This is a csv file, but it has some peculiar issues:\n",
    "\n",
    "* it uses semicolon (`;`) as separator\n",
    "* it uses a colon (`,`) instead of a dot (`.`) for the decimals notation\n",
    "\n",
    "Task 2.1: Use the capabilities of `Pandas.read_csv()` function, to read this file into a `DataFrame`. "
   ]
  },
  {
   "cell_type": "code",
   "metadata": {
    "ExecuteTime": {
     "end_time": "2025-01-28T03:01:41.317392Z",
     "start_time": "2025-01-28T03:01:41.312024Z"
    }
   },
   "source": [
    "file = 'ta.csv'\n",
    "data = pd.read_csv(path+file, sep='\\\\s+',decimal=',', skiprows= 1, skipfooter=1, engine = \"python\")\n",
    "print(data)\n",
    "print(data.columns)\n"
   ],
   "outputs": [
    {
     "name": "stdout",
     "output_type": "stream",
     "text": [
      "    -400;-0,363284;-0,101139;-0,428288;0,043098;-0,103998\n",
      "0    -390;-0,464574;-0,142894;-0,294602;-0,199885;-...   \n",
      "1    -380;-0,270030;-0,316764;-0,358936;-0,440334;-...   \n",
      "2    -370;-0,245370;-0,012989;-0,366877;-0,389370;-...   \n",
      "3    -360;-0,260838;-0,181731;-0,027994;0,086638;-0...   \n",
      "4    -350;-0,032563;-0,165703;0,033523;-0,156400;-0...   \n",
      "..                                                 ...   \n",
      "534  4950;0,650552;0,405323;0,782735;0,590603;0,505666   \n",
      "535  4960;1,141909;0,725613;0,598935;0,697969;0,528366   \n",
      "536  4970;0,398080;0,575600;0,401757;0,683005;0,883877   \n",
      "537  4980;0,642711;0,365095;0,542756;0,340545;0,669134   \n",
      "538  4990;0,478086;0,570831;0,624570;0,406449;0,296095   \n",
      "\n",
      "[539 rows x 1 columns]\n",
      "Index(['-400;-0,363284;-0,101139;-0,428288;0,043098;-0,103998'], dtype='object')\n"
     ]
    }
   ],
   "execution_count": 382
  },
  {
   "cell_type": "markdown",
   "metadata": {},
   "source": [
    "Task 2.2: Answer the following questions using `DataFrame` functionalities. Make sure to show your Python work, leaving the commands that you used in the notebook or referring to them in your answers.\n",
    "\n",
    "* How many rows and columns of data are in the file?   \n",
    "\n",
    "* What is the last recorded value of the laser delay time? \n",
    "\n",
    "* What is the first recorded value of the transient absorption in run 5 (i.e., in the column labelled TA5)?\n",
    "\n",
    "* What is the peak value of the transient absorption in run 2 (i.e., the maximum value)?"
   ]
  },
  {
   "cell_type": "markdown",
   "metadata": {},
   "source": [
    "Task 2.3: Make a plot that shows at least two of the transient absorption curves as a function of the laser delay. "
   ]
  },
  {
   "cell_type": "markdown",
   "metadata": {},
   "source": [
    "## Task 3: Math on Datasets"
   ]
  },
  {
   "attachments": {},
   "cell_type": "markdown",
   "metadata": {},
   "source": [
    "For all the tasks that follow you wil be working with a dataset created by your instructor, named `protein.csv`. You can find this file on [GitHub](https://github.com/BoiseState-Chem/Programming/blob/main/Test_Files/protein.csv) or in the [Canvas page](https://boisestatecanvas.instructure.com/courses/27670/files/14071185?wrap=1) of the assignment. The data file contains more than 700 rows of data related to the atoms of a small protein (an insulin mutant, entry 1A7F in the Protein Data Bank). For each atom the file report the element label (first column), some properties that are related to how close to the surface of the protein the atom is, as well as the cartesian coordinates (X,Y,Z, in the last three columns) of that atom, as obtained from crystallographic data, the atomic mass of the atom (MASS), and its distance from the center of mass of the protein (R_vs_COM). Units for all the reported columns can be assumed to be atomic units (a.u.). "
   ]
  },
  {
   "attachments": {},
   "cell_type": "markdown",
   "metadata": {},
   "source": [
    "Use `Pandas` to load the file into a `DataFrame`."
   ]
  },
  {
   "cell_type": "code",
   "metadata": {
    "ExecuteTime": {
     "end_time": "2025-01-28T02:59:31.835543Z",
     "start_time": "2025-01-28T02:59:31.831987Z"
    }
   },
   "source": [
    "file = 'protein.csv'\n",
    "protein = pd.read_csv(path+file)"
   ],
   "outputs": [],
   "execution_count": 378
  },
  {
   "attachments": {},
   "cell_type": "markdown",
   "metadata": {},
   "source": [
    "Task 3.1: Answer the following questions related to the dataset. Make sure to show your Python work, leaving the commands that you used in the notebook or referring to them in your answers."
   ]
  },
  {
   "cell_type": "code",
   "metadata": {
    "ExecuteTime": {
     "end_time": "2025-01-28T02:59:31.846930Z",
     "start_time": "2025-01-28T02:59:31.844466Z"
    }
   },
   "source": [
    "# How many atoms are in the protein?\n",
    "print(f\"The file contains {} atoms\")\n",
    "# How many of these are carbon atoms?\n",
    "print(f\"The protein has {} C atoms\")\n",
    "# What is the total mass of the protein?\n",
    "print(f\"The protein has a mass of {} atomic units\")"
   ],
   "outputs": [
    {
     "ename": "SyntaxError",
     "evalue": "f-string: valid expression required before '}' (211792220.py, line 2)",
     "output_type": "error",
     "traceback": [
      "\u001B[0;36m  Cell \u001B[0;32mIn[379], line 2\u001B[0;36m\u001B[0m\n\u001B[0;31m    print(f\"The file contains {} atoms\")\u001B[0m\n\u001B[0m                               ^\u001B[0m\n\u001B[0;31mSyntaxError\u001B[0m\u001B[0;31m:\u001B[0m f-string: valid expression required before '}'\n"
     ]
    }
   ],
   "execution_count": 379
  },
  {
   "attachments": {},
   "cell_type": "markdown",
   "metadata": {},
   "source": [
    "Task 3.2: From the knowledge of the positions of the atoms, $\\vec{R}_i$, and their masses, $m_i$, we can compute the coordinates of the center of mass of the protein $\\vec{r}_{com}=\\frac{1}{M_{tot}}\\sum{m_i\\vec{R}_i}$, where $M_{tot}$ is the total mass.\n",
    "\n",
    "While you can solve this task using `for` loops, try doing the math directly on the columns of the `DataFrame`. You may want to write the vector that you need to compute in terms of its three components:\n",
    "\n",
    "$$x_{cm}=\\frac{1}{M_{tot}}\\sum{m_i{X}_i}$$\n",
    "$$y_{cm}=\\frac{1}{M_{tot}}\\sum{m_i{Y}_i}$$\n",
    "$$z_{cm}=\\frac{1}{M_{tot}}\\sum{m_i{Z}_i}$$\n",
    "\n",
    "where $X_i$, $Y_i$, and $Z_i$ are the coordinates of the atoms and correspond to the 'X', 'Y', 'Z' columns of the `DataFrame`. NOTE: you can sum over all the values in a colum, with the `np.sum()` function or with the `df['Column-Name'].sum()` method. "
   ]
  },
  {
   "cell_type": "code",
   "execution_count": null,
   "metadata": {},
   "outputs": [],
   "source": [
    "xcm =\n",
    "ycm =\n",
    "zcm =\n",
    "print(f\"The coordinates of the center of mass of the protein are {xcm} {ycm} {zcm}\")"
   ]
  },
  {
   "attachments": {},
   "cell_type": "markdown",
   "metadata": {},
   "source": [
    "## Task 4: Linear Regression"
   ]
  },
  {
   "attachments": {},
   "cell_type": "markdown",
   "metadata": {},
   "source": [
    "Still working on the data from the `protein.csv` file, extract the values corresponding to the VOL_CONT_20.0 and R_vs_COM columns. \n",
    "\n",
    "Task 4.1: Characterize the frequency distribution of these two data sets. You can do this by making histogram plots and by looking at their means and standard deviations."
   ]
  },
  {
   "attachments": {},
   "cell_type": "markdown",
   "metadata": {},
   "source": [
    "Task 4.2: Check if there is any relation between the two variables above. You can do this with a scatter plot."
   ]
  },
  {
   "attachments": {},
   "cell_type": "markdown",
   "metadata": {},
   "source": [
    "Feel free to comment on what is shown in the plot here. "
   ]
  },
  {
   "attachments": {},
   "cell_type": "markdown",
   "metadata": {},
   "source": [
    "Task 4.3: Can we use the selected feature (VOL_CONT_20.0) to predict the distance of the atom from the center of mass of the protein (R_vs_COM)? Use a linear regression algorithm from `Sklearn` to perform a fit of a linear model. Plot the fit together with the data "
   ]
  },
  {
   "cell_type": "code",
   "execution_count": null,
   "metadata": {},
   "outputs": [],
   "source": [
    "lr = LinearRegression()"
   ]
  },
  {
   "attachments": {},
   "cell_type": "markdown",
   "metadata": {},
   "source": [
    "Task 4.4: How good is your fit? Compute the fit's correlation score."
   ]
  },
  {
   "attachments": {},
   "cell_type": "markdown",
   "metadata": {},
   "source": [
    "Add your comments on the results here."
   ]
  },
  {
   "attachments": {},
   "cell_type": "markdown",
   "metadata": {},
   "source": [
    "## Bonus Task"
   ]
  },
  {
   "attachments": {},
   "cell_type": "markdown",
   "metadata": {},
   "source": [
    "1. Out of all the variables named SUR_CONT_... and VOL_CONT_..., which one is the best to predict R_vs_COM using a linear model?\n",
    "2. Can you improve on the prediction of R_vs_COM using more than one variable? "
   ]
  }
 ],
 "metadata": {
  "kernelspec": {
   "display_name": "Python 3",
   "language": "python",
   "name": "python3"
  },
  "language_info": {
   "codemirror_mode": {
    "name": "ipython",
    "version": 3
   },
   "file_extension": ".py",
   "mimetype": "text/x-python",
   "name": "python",
   "nbconvert_exporter": "python",
   "pygments_lexer": "ipython3"
  },
  "vscode": {
   "interpreter": {
    "hash": "949777d72b0d2535278d3dc13498b2535136f6dfe0678499012e853ee9abcab1"
   }
  }
 },
 "nbformat": 4,
 "nbformat_minor": 2
}
